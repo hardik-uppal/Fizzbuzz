{
 "cells": [
  {
   "cell_type": "code",
   "execution_count": 1,
   "id": "b11365b6",
   "metadata": {},
   "outputs": [],
   "source": [
    "import requests\n",
    "import json\n",
    "from PIL import Image\n",
    "from io import BytesIO\n",
    "import numpy as np\n",
    "import hashlib"
   ]
  },
  {
   "cell_type": "code",
   "execution_count": 2,
   "id": "60c2b786",
   "metadata": {},
   "outputs": [],
   "source": [
    "URL = \"http://localhost/predict\""
   ]
  },
  {
   "cell_type": "code",
   "execution_count": 3,
   "id": "7e643db9",
   "metadata": {},
   "outputs": [],
   "source": [
    "def process_request(data):\n",
    "    # Ensure headers specify that you're sending JSON data\n",
    "    headers = {\"Content-Type\": \"application/json\"}\n",
    "    # Convert your data to JSON before sending\n",
    "\n",
    "    response = requests.post(URL, headers=headers, data=json.dumps(data))\n",
    "    # Debug: Print the status code and response text\n",
    "\n",
    "    response_dict = json.loads(response.text)\n",
    "    print(\"Response Text:\", response_dict[\"message\"], \"for image:\", data[\"url\"])\n",
    "    mask = np.array(response_dict[\"predictions\"]).transpose(1, 2, 0)\n",
    "\n",
    "    response = requests.get(data[\"url\"])\n",
    "    # create hexcode for image url\n",
    "    img_url_bytes = data[\"url\"].encode(\"utf-8\")\n",
    "    # Create a hash object and generate the hex code\n",
    "    hex_code = hashlib.md5(img_url_bytes).hexdigest()\n",
    "\n",
    "    original_image = Image.open(BytesIO(response.content)).convert(\"RGBA\")\n",
    "    # Get the width and height of the original image\n",
    "    width = original_image.width\n",
    "    height = original_image.height\n",
    "    # Start with a transparent image\n",
    "    colors = [\n",
    "        (255, 0, 0, 128),  # Red\n",
    "        (0, 255, 0, 128),  # Lime Green\n",
    "        (0, 0, 255, 128),  # Blue\n",
    "        (255, 255, 0, 128),  # Yellow\n",
    "        (0, 255, 255, 128),  # Cyan\n",
    "        (255, 0, 255, 128),  # Magenta\n",
    "        (192, 192, 192, 128),  # Silver\n",
    "        (128, 0, 128, 128),  # Purple\n",
    "        (255, 165, 0, 128),  # Orange\n",
    "        (0, 128, 0, 128),  # Dark Green\n",
    "    ]\n",
    "    composite = Image.new(\"RGBA\", (width, height), (0, 0, 0, 0))\n",
    "    num_classes = mask.shape[2]\n",
    "    for i in range(num_classes):\n",
    "        # Create a mask for the current class\n",
    "        class_mask = mask[:, :, i]\n",
    "\n",
    "        # Convert the class mask to a PIL image with the same color for all mask pixels\n",
    "        overlay_color = Image.new(\"RGBA\", (width, height), colors[i])\n",
    "\n",
    "        # Convert the binary mask to an 8-bit grayscale image and then to 'L' mode\n",
    "        mask_image = Image.fromarray((class_mask * 255).astype(np.uint8)).convert(\"L\")\n",
    "        mask_image = mask_image.resize(original_image.size)\n",
    "        # Create a composite image with the current class's overlay\n",
    "        composite = Image.composite(overlay_color, composite, mask_image)\n",
    "\n",
    "    # Overlay the colored mask on the original image\n",
    "    final_image = Image.alpha_composite(original_image, composite)\n",
    "    # save th original image\n",
    "    original_image.save(f\"original_image_{hex_code}.png\")\n",
    "    # Save or display the final image\n",
    "    final_image.save(f\"final_image-{hex_code}.png\")"
   ]
  },
  {
   "cell_type": "code",
   "execution_count": 4,
   "id": "e2d6d073",
   "metadata": {},
   "outputs": [],
   "source": [
    "data_list = [\n",
    "        {\n",
    "            \"url\": \"http://images.cocodataset.org/val2017/000000039769.jpg\",\n",
    "            \"text\": \"cat, remote, blanket\",\n",
    "        },\n",
    "        {\n",
    "            \"url\": \"https://media.wired.com/photos/5932743344db296121d6b359/master/w_1280,c_limit/6714960287_b8f2a8bd8e_b.jpg\",\n",
    "            \"text\": \"person, hat, gloves, eyeglasses\",\n",
    "        },\n",
    "        {\n",
    "            \"url\": \"https://i.pinimg.com/564x/30/88/88/3088880ef60a8860d7cbd53c95d95fcd.jpg\",\n",
    "            \"text\": \"person, car, road, boots\",\n",
    "        },\n",
    "    ]"
   ]
  },
  {
   "cell_type": "code",
   "execution_count": null,
   "id": "608a1c32",
   "metadata": {},
   "outputs": [
    {
     "name": "stderr",
     "output_type": "stream",
     "text": [
      "Process SpawnPoolWorker-1:\n",
      "Process SpawnPoolWorker-2:\n",
      "Traceback (most recent call last):\n",
      "Traceback (most recent call last):\n",
      "  File \"/Users/hardikuppal/opt/miniconda3/lib/python3.9/multiprocessing/process.py\", line 315, in _bootstrap\n",
      "    self.run()\n",
      "  File \"/Users/hardikuppal/opt/miniconda3/lib/python3.9/multiprocessing/process.py\", line 108, in run\n",
      "    self._target(*self._args, **self._kwargs)\n",
      "  File \"/Users/hardikuppal/opt/miniconda3/lib/python3.9/multiprocessing/pool.py\", line 114, in worker\n",
      "    task = get()\n",
      "  File \"/Users/hardikuppal/opt/miniconda3/lib/python3.9/multiprocessing/queues.py\", line 368, in get\n",
      "    return _ForkingPickler.loads(res)\n",
      "AttributeError: Can't get attribute 'process_request' on <module '__main__' (built-in)>\n",
      "  File \"/Users/hardikuppal/opt/miniconda3/lib/python3.9/multiprocessing/process.py\", line 315, in _bootstrap\n",
      "    self.run()\n",
      "  File \"/Users/hardikuppal/opt/miniconda3/lib/python3.9/multiprocessing/process.py\", line 108, in run\n",
      "    self._target(*self._args, **self._kwargs)\n",
      "  File \"/Users/hardikuppal/opt/miniconda3/lib/python3.9/multiprocessing/pool.py\", line 114, in worker\n",
      "    task = get()\n",
      "  File \"/Users/hardikuppal/opt/miniconda3/lib/python3.9/multiprocessing/queues.py\", line 368, in get\n",
      "    return _ForkingPickler.loads(res)\n",
      "AttributeError: Can't get attribute 'process_request' on <module '__main__' (built-in)>\n"
     ]
    }
   ],
   "source": [
    "for i in range(len(data_list)):\n",
    "    process_request(data_list[i])"
   ]
  },
  {
   "cell_type": "code",
   "execution_count": null,
   "id": "3f10bb55",
   "metadata": {},
   "outputs": [],
   "source": []
  }
 ],
 "metadata": {
  "kernelspec": {
   "display_name": "Python 3 (ipykernel)",
   "language": "python",
   "name": "python3"
  },
  "language_info": {
   "codemirror_mode": {
    "name": "ipython",
    "version": 3
   },
   "file_extension": ".py",
   "mimetype": "text/x-python",
   "name": "python",
   "nbconvert_exporter": "python",
   "pygments_lexer": "ipython3",
   "version": "3.9.12"
  }
 },
 "nbformat": 4,
 "nbformat_minor": 5
}
